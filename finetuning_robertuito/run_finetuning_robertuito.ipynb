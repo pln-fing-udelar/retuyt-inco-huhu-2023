{
  "nbformat": 4,
  "nbformat_minor": 0,
  "metadata": {
    "colab": {
      "provenance": []
    },
    "kernelspec": {
      "name": "python3",
      "display_name": "Python 3"
    },
    "language_info": {
      "name": "python"
    }
  },
  "cells": [
    {
      "cell_type": "markdown",
      "source": [
        "[![Open In Colab](https://colab.research.google.com/assets/colab-badge.svg)](https://colab.research.google.com/github/pln-fing-udelar/retuyt-inco-huhu-2023/finetuning-robertuito/run_finetuning_robertuito.ipynb)"
      ],
      "metadata": {
        "id": "fXPQaCfu7UhO"
      }
    },
    {
      "cell_type": "markdown",
      "source": [
        "# Fine-tuning Robertuito for the HUHU Shared Task\n",
        "\n",
        "This notebook presents **how to run** the fine-tuned versions of [pysentimiento/robertuito-base-uncased](https://huggingface.co/pysentimiento/robertuito-base-uncased) created for the HUHU Shared Task at IberLEF 2023. All models are available in [Hugging Face](https://huggingface.co/).\n",
        "\n",
        "To follow the training process we used for these models, please refer to the notebook *train_finetuning_robertuito.ipynb*.\n",
        "\n",
        "The Shared Task consisted of the following three subtasks (as explained in [the official website](https://sites.google.com/view/huhuatiberlef23/huhu)).\n",
        "\n",
        "### Subtask 1: HUrtful HUmour Detection\n",
        "\n",
        "The first subtask consists in determining whether a prejudicial tweet is intended to cause humour. Participants will have to distinguish between tweets that using humour express prejudice and tweets that express prejudice without using humour.\n",
        "\n",
        "### Subtask 2A: Prejudice Target Detection\n",
        "\n",
        "Taking into account the following minority groups: Women and feminists, LGBTIQ community and Immigrants, racially discriminated people, and overweight people, participants are asked to identify the targeted groups on each tweet as a multilabel classification task.\n",
        "\n",
        "### Subtask 2B: Degree of Prejudice Prediction\n",
        "\n",
        "The third subtask consists of predicting on a continuous scale from 1 to 5 to evaluate how prejudicial the message is on average among minority groups."
      ],
      "metadata": {
        "id": "-yIgvCu4fOMf"
      }
    },
    {
      "cell_type": "code",
      "source": [
        "#@title Install transformers package\n",
        "\n",
        "!pip install transformers"
      ],
      "metadata": {
        "cellView": "form",
        "id": "tjCB1ZH0pLBn"
      },
      "execution_count": null,
      "outputs": []
    },
    {
      "cell_type": "code",
      "source": [
        "#@title Remove verbosity (optional)\n",
        "from transformers.utils import logging\n",
        "\n",
        "logging.set_verbosity(logging.CRITICAL)"
      ],
      "metadata": {
        "cellView": "form",
        "id": "2FXNt9E7rCSL"
      },
      "execution_count": 9,
      "outputs": []
    },
    {
      "cell_type": "markdown",
      "source": [
        "## Subtask 1: HUrtful HUmour Detection\n",
        "\n",
        "Model in Hugging Face: [pln-fing-udelar/robertuito-HUHU-task1](https://huggingface.co/pln-fing-udelar/robertuito-HUHU-task1)"
      ],
      "metadata": {
        "id": "XeHGnBqXmu0a"
      }
    },
    {
      "cell_type": "code",
      "execution_count": 13,
      "metadata": {
        "cellView": "form",
        "colab": {
          "base_uri": "https://localhost:8080/"
        },
        "id": "3rLDnp9jmu0a",
        "outputId": "4440e101-2136-434d-fe78-632e9d189673"
      },
      "outputs": [
        {
          "output_type": "stream",
          "name": "stdout",
          "text": [
            "Label: NON-HUMOROUS, score: 0.5713184475898743\n"
          ]
        }
      ],
      "source": [
        "#@title Run model\n",
        "from transformers import pipeline\n",
        "\n",
        "tweet = \"El español es un idioma muy hablado en el mundo.\" #@param {\"type\":\"string\"}\n",
        "\n",
        "classifier = pipeline(model=\"pln-fing-udelar/robertuito-HUHU-task1\")\n",
        "prediction = classifier(tweet)\n",
        "\n",
        "print(f\"Label: {prediction[0]['label']}, score: {prediction[0]['score']}\")"
      ]
    },
    {
      "cell_type": "markdown",
      "source": [
        "## Subtask 2A: Prejudice Target Detection\n",
        "\n",
        "Models in Hugging Face:\n",
        "\n",
        "*   Prejudice-woman: [pln-fing-udelar/robertuito-HUHU-task2a-group1](https://huggingface.co/pln-fing-udelar/robertuito-HUHU-task2a-group1)\n",
        "*   Prejudice-LGBTIQ: [pln-fing-udelar/robertuito-HUHU-task2a-group2](https://huggingface.co/pln-fing-udelar/robertuito-HUHU-task2a-group2)\n",
        "*   Prejudice-inmigrant-race: [pln-fing-udelar/robertuito-HUHU-task2a-group3](https://huggingface.co/pln-fing-udelar/robertuito-HUHU-task2a-group3)\n",
        "*   Prejudice-overweight: [pln-fing-udelar/robertuito-HUHU-task2a-group4](https://huggingface.co/pln-fing-udelar/robertuito-HUHU-task2a-group4)"
      ],
      "metadata": {
        "id": "ZjRkhVLOjA-K"
      }
    },
    {
      "cell_type": "code",
      "execution_count": 11,
      "metadata": {
        "colab": {
          "base_uri": "https://localhost:8080/"
        },
        "cellView": "form",
        "id": "4-8MQuI8fICf",
        "outputId": "62d08bca-dcfb-4839-8d27-447320b3741e"
      },
      "outputs": [
        {
          "output_type": "stream",
          "name": "stdout",
          "text": [
            "Label: NO-PREJUDICE-WOMAN, score: 0.993057370185852\n",
            "Label: NO-PREJUDICE-LGBTIQ, score: 0.9904792904853821\n",
            "Label: PREJUDICE-INMIGRANT-RACE, score: 0.9952902793884277\n",
            "Label: NO-PREJUDICE-OVERWEIGHT, score: 0.9981707334518433\n"
          ]
        }
      ],
      "source": [
        "#@title Run models\n",
        "from transformers import pipeline\n",
        "\n",
        "tweet = \"El español es un idioma muy hablado en el mundo.\" #@param {\"type\":\"string\"}\n",
        "\n",
        "for i in range(4):\n",
        "  classifier = pipeline(model=f\"pln-fing-udelar/robertuito-HUHU-task2a-group{i+1}\")\n",
        "  prediction = classifier(tweet)\n",
        "  print(f\"Label: {prediction[0]['label']}, score: {prediction[0]['score']}\")"
      ]
    },
    {
      "cell_type": "markdown",
      "source": [
        "## Subtask 2B: Degree of Prejudice Prediction\n",
        "\n",
        "Model in Hugging Face: [pln-fing-udelar/robertuito-HUHU-task2b](https://huggingface.co/pln-fing-udelar/robertuito-HUHU-task2b)\n",
        "\n",
        "Since this is a regression task, the head used for transfer learning is a classification head with one output label, and no function should be applied to the output value. This is specified in the transformers pipeline setting the parameter *function_to_apply* to \"none\"."
      ],
      "metadata": {
        "id": "4F-oOenfsSmT"
      }
    },
    {
      "cell_type": "code",
      "execution_count": 15,
      "metadata": {
        "cellView": "form",
        "colab": {
          "base_uri": "https://localhost:8080/"
        },
        "outputId": "8ab8fb13-094d-491c-c5e5-c8dae8e4cba3",
        "id": "KfbnRseS-3JR"
      },
      "outputs": [
        {
          "output_type": "stream",
          "name": "stdout",
          "text": [
            "Degree of prejudice: 3.222658634185791\n"
          ]
        }
      ],
      "source": [
        "#@title Run model\n",
        "from transformers import pipeline\n",
        "\n",
        "tweet = \"El español es un idioma muy hablado en el mundo.\" #@param {\"type\":\"string\"}\n",
        "\n",
        "classifier = pipeline(model=\"pln-fing-udelar/robertuito-HUHU-task2b\", function_to_apply=\"none\")\n",
        "prediction = classifier(tweet)\n",
        "\n",
        "print(f\"Degree of prejudice: {prediction[0]['score']}\")"
      ]
    }
  ]
}