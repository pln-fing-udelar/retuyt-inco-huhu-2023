{
  "cells": [
    {
      "attachments": {},
      "cell_type": "markdown",
      "metadata": {
        "id": "fXPQaCfu7UhO"
      },
      "source": [
        "[![Open In Colab](https://colab.research.google.com/assets/colab-badge.svg)](https://colab.research.google.com/github/pln-fing-udelar/retuyt-inco-huhu-2023/blob/main/finetuning_robertuito/train_finetuning_robertuito.ipynb)"
      ]
    },
    {
      "attachments": {},
      "cell_type": "markdown",
      "metadata": {
        "id": "-yIgvCu4fOMf"
      },
      "source": [
        "# Fine-tuning Robertuito for the HUHU Shared Task\n",
        "\n",
        "This notebook presents **how we trained** the fine-tuned versions of [pysentimiento/robertuito-base-uncased](https://huggingface.co/pysentimiento/robertuito-base-uncased) created for the HUHU Shared Task at IberLEF 2023. All models are available in [Hugging Face](https://huggingface.co/).\n",
        "\n",
        "To run our already fine-tuned models, please refer to the notebook *run_finetuning_robertuito.ipynb*.\n",
        "\n",
        "For this notebook, it is **recommended** to use a runtime with GPU enabled.\n",
        "\n",
        "The Shared Task consisted of the following three subtasks (as explained in [the official website](https://sites.google.com/view/huhuatiberlef23/huhu)).\n",
        "\n",
        "### Subtask 1: HUrtful HUmour Detection\n",
        "\n",
        "The first subtask consists in determining whether a prejudicial tweet is intended to cause humour. Participants will have to distinguish between tweets that using humour express prejudice and tweets that express prejudice without using humour.\n",
        "\n",
        "### Subtask 2A: Prejudice Target Detection\n",
        "\n",
        "Taking into account the following minority groups: Women and feminists, LGBTIQ community and Immigrants, racially discriminated people, and overweight people, participants are asked to identify the targeted groups on each tweet as a multilabel classification task.\n",
        "\n",
        "### Subtask 2B: Degree of Prejudice Prediction\n",
        "\n",
        "The third subtask consists of predicting on a continuous scale from 1 to 5 to evaluate how prejudicial the message is on average among minority groups."
      ]
    },
    {
      "cell_type": "code",
      "execution_count": null,
      "metadata": {
        "cellView": "form",
        "id": "pAZaFeTISxFa"
      },
      "outputs": [],
      "source": [
        "#@title Install transformers package\n",
        "\n",
        "!pip install transformers"
      ]
    },
    {
      "cell_type": "code",
      "execution_count": 11,
      "metadata": {
        "cellView": "form",
        "id": "Qa18tv9C4zse"
      },
      "outputs": [],
      "source": [
        "#@title Auxiliary functions\n",
        "import matplotlib.pyplot as plt\n",
        "from sklearn.metrics import confusion_matrix, ConfusionMatrixDisplay, f1_score\n",
        "\n",
        "def plotConfusionMatrix(labels, original, prediction):\n",
        "    cm = confusion_matrix(original, prediction, labels=labels)\n",
        "    disp = ConfusionMatrixDisplay(confusion_matrix=cm, display_labels=labels)\n",
        "    disp.plot()\n",
        "    plt.show()\n",
        "\n",
        "def getFScorePerClass(labels, original, prediction):\n",
        "\n",
        "    print(\"F-Score avg: \" + str(round(f1_score(original, prediction, average='macro'), 3)))\n",
        "\n",
        "    scores = f1_score(original, prediction, average=None, labels=labels)\n",
        "    for i in range(len(labels)):\n",
        "        print(f\"F-Score for the {labels[i]} class: \" + str(round(scores[i], 3)))"
      ]
    },
    {
      "attachments": {},
      "cell_type": "markdown",
      "metadata": {
        "id": "jZZ7HoDKq-nu"
      },
      "source": [
        "To run the following code, it is necessary to have the following files in the root of your directory structure:\n",
        "\n",
        "\n",
        "*   huhu_split_train.csv\n",
        "*   huhu_split_dev.csv\n",
        "\n",
        "In our experiments, we decided to make our own internal 90%-10% split of the training set that was made available by the organizers. This training set can be downloaded from [zenodo](https://zenodo.org/record/7967255).\n"
      ]
    },
    {
      "cell_type": "code",
      "execution_count": 3,
      "metadata": {
        "cellView": "form",
        "id": "ypPJVWfEpoe7"
      },
      "outputs": [],
      "source": [
        "#@title Load train_set and dev_set\n",
        "import pandas as pd\n",
        "\n",
        "train_set = pd.read_csv('huhu_split_train.csv').sample(frac=1, random_state=1).reset_index()\n",
        "dev_set = pd.read_csv('huhu_split_dev.csv')"
      ]
    },
    {
      "attachments": {},
      "cell_type": "markdown",
      "metadata": {
        "id": "TUr6fcDstYlt"
      },
      "source": [
        "## Subtasks 1 and 2A"
      ]
    },
    {
      "cell_type": "code",
      "execution_count": 13,
      "metadata": {
        "cellView": "form",
        "id": "qtrf24VwYm90"
      },
      "outputs": [],
      "source": [
        "#@title Select base model to use and category to learn\n",
        "\n",
        "base_model = \"pysentimiento/robertuito-base-uncased\" #@param {\"type\":\"string\"}\n",
        "category = \"prejudice_woman\" #@param [\"humor\", \"prejudice_woman\", \"prejudice_lgbtiq\", \"prejudice_inmigrant_race\", \"gordofobia\"]"
      ]
    },
    {
      "cell_type": "code",
      "execution_count": 14,
      "metadata": {
        "cellView": "form",
        "id": "D5VGkLIbRE8Y"
      },
      "outputs": [],
      "source": [
        "#@title Preprocessing\n",
        "from transformers import AutoTokenizer\n",
        "import numpy as np\n",
        "\n",
        "tokenizer = AutoTokenizer.from_pretrained(base_model)\n",
        "\n",
        "# If no pad_token is defined in the tokenizer, we define it as the eos token\n",
        "tokenizer.pad_token = tokenizer.eos_token if not tokenizer.pad_token else tokenizer.pad_token\n",
        "\n",
        "tokenized_data = tokenizer([tweet[\"tweet\"] for _, tweet in train_set.iterrows()], return_tensors=\"np\", padding=True)\n",
        "\n",
        "# Tokenizer returns a BatchEncoding, but we convert that to a dict for Keras\n",
        "tokenized_data = dict(tokenized_data)\n",
        "\n",
        "labels = np.array([tweet[category] for _, tweet in train_set.iterrows()])"
      ]
    },
    {
      "cell_type": "code",
      "execution_count": 15,
      "metadata": {
        "cellView": "form",
        "colab": {
          "base_uri": "https://localhost:8080/"
        },
        "id": "XOGQXUxERXb4",
        "outputId": "803b4732-1196-487c-9223-415e6ae3268c"
      },
      "outputs": [
        {
          "name": "stderr",
          "output_type": "stream",
          "text": [
            "Some weights of the PyTorch model were not used when initializing the TF 2.0 model TFRobertaForSequenceClassification: ['roberta.embeddings.position_ids']\n",
            "- This IS expected if you are initializing TFRobertaForSequenceClassification from a PyTorch model trained on another task or with another architecture (e.g. initializing a TFBertForSequenceClassification model from a BertForPreTraining model).\n",
            "- This IS NOT expected if you are initializing TFRobertaForSequenceClassification from a PyTorch model that you expect to be exactly identical (e.g. initializing a TFBertForSequenceClassification model from a BertForSequenceClassification model).\n",
            "Some weights or buffers of the TF 2.0 model TFRobertaForSequenceClassification were not initialized from the PyTorch model and are newly initialized: ['classifier.dense.weight', 'classifier.dense.bias', 'classifier.out_proj.weight', 'classifier.out_proj.bias']\n",
            "You should probably TRAIN this model on a down-stream task to be able to use it for predictions and inference.\n"
          ]
        },
        {
          "name": "stdout",
          "output_type": "stream",
          "text": [
            "Epoch 1/2\n",
            "76/76 [==============================] - 96s 619ms/step - loss: 0.3371\n",
            "Epoch 2/2\n",
            "76/76 [==============================] - 45s 596ms/step - loss: 0.1060\n"
          ]
        },
        {
          "data": {
            "text/plain": [
              "<keras.callbacks.History at 0x7f6e0fa23cd0>"
            ]
          },
          "execution_count": 15,
          "metadata": {},
          "output_type": "execute_result"
        }
      ],
      "source": [
        "#@title Train\n",
        "from transformers import TFAutoModelForSequenceClassification, set_seed\n",
        "from tensorflow.keras.optimizers import Adam\n",
        "import tensorflow as tf\n",
        "\n",
        "seed = 1234 #@param {\"type\":\"integer\"}\n",
        "epochs = 2 #@param {\"type\":\"integer\"}\n",
        "\n",
        "# Make training reproducible\n",
        "set_seed(seed)\n",
        "\n",
        "# Load and compile the base model\n",
        "model = TFAutoModelForSequenceClassification.from_pretrained(base_model, from_pt=True)\n",
        "\n",
        "# resize model embedding to match new tokenizer\n",
        "model.resize_token_embeddings(len(tokenizer))\n",
        "\n",
        "# fix model padding token id if needed\n",
        "model.config.pad_token_id = model.config.eos_token_id if not model.config.pad_token_id else model.config.pad_token_id\n",
        "\n",
        "model.compile(optimizer=Adam(3e-5))\n",
        "\n",
        "model.fit(tokenized_data, labels, epochs=epochs)"
      ]
    },
    {
      "cell_type": "code",
      "execution_count": 16,
      "metadata": {
        "cellView": "form",
        "colab": {
          "base_uri": "https://localhost:8080/",
          "height": 501
        },
        "id": "n3IyKMAcUWSi",
        "outputId": "c5372ab0-4547-4e10-a7f6-d87f48396d14"
      },
      "outputs": [
        {
          "name": "stdout",
          "output_type": "stream",
          "text": [
            "F-Score avg: 0.91\n",
            "F-Score for the negative class: 0.909\n",
            "F-Score for the positive class: 0.911\n"
          ]
        },
        {
          "data": {
            "image/png": "[encoded data removed]",
            "text/plain": [
              "<Figure size 640x480 with 2 Axes>"
            ]
          },
          "metadata": {},
          "output_type": "display_data"
        }
      ],
      "source": [
        "#@title Evaluate model\n",
        "import tensorflow as tf\n",
        "\n",
        "# Tokenize tweets in dev_set\n",
        "tokenized_dev = tokenizer([tweet[\"tweet\"] for _, tweet in dev_set.iterrows()], return_tensors=\"np\", padding=True)\n",
        "tokenized_dev = dict(tokenized_dev)\n",
        "\n",
        "prediction = model(tokenized_dev)\n",
        "prediction_logits = prediction[0]\n",
        "prediction_probs = tf.nn.softmax(prediction_logits,axis=1).numpy()\n",
        "\n",
        "original = ['positive' if x[category] == 1 else 'negative' for _, x in dev_set.iterrows()]\n",
        "prediction = ['positive' if x[0] < x[1] else 'negative' for x in prediction_probs]\n",
        "\n",
        "getFScorePerClass(['negative','positive'], original, prediction)\n",
        "plotConfusionMatrix(['negative','positive'], original, prediction)"
      ]
    },
    {
      "attachments": {},
      "cell_type": "markdown",
      "metadata": {
        "id": "6Vtpt5OzwcU2"
      },
      "source": [
        "## Subtask 2B\n",
        "\n",
        "Since this is a regression task, the head used for transfer learning is a classification head with one output label and the loss function is Mean Squared Error.\n",
        "\n",
        "When evaluating the model, no function is applied to the output value."
      ]
    },
    {
      "cell_type": "code",
      "execution_count": 17,
      "metadata": {
        "cellView": "form",
        "id": "mqxWaxtQwcVF"
      },
      "outputs": [],
      "source": [
        "#@title Select base model to use\n",
        "\n",
        "base_model = \"pysentimiento/robertuito-base-uncased\" #@param {\"type\":\"string\"}"
      ]
    },
    {
      "cell_type": "code",
      "execution_count": 18,
      "metadata": {
        "cellView": "form",
        "id": "y7OKAG-VwcVG"
      },
      "outputs": [],
      "source": [
        "#@title Preprocessing\n",
        "from transformers import AutoTokenizer\n",
        "import numpy as np\n",
        "\n",
        "tokenizer = AutoTokenizer.from_pretrained(base_model)\n",
        "\n",
        "# If no pad_token is defined in the tokenizer, we define it as the eos token\n",
        "tokenizer.pad_token = tokenizer.eos_token if not tokenizer.pad_token else tokenizer.pad_token\n",
        "\n",
        "tokenized_data = tokenizer([tweet[\"tweet\"] for _, tweet in train_set.iterrows()], return_tensors=\"np\", padding=True)\n",
        "\n",
        "# Tokenizer returns a BatchEncoding, but we convert that to a dict for Keras\n",
        "tokenized_data = dict(tokenized_data)\n",
        "\n",
        "labels = np.array([tweet[\"mean_prejudice\"] for _, tweet in train_set.iterrows()])"
      ]
    },
    {
      "cell_type": "code",
      "execution_count": 19,
      "metadata": {
        "cellView": "form",
        "colab": {
          "base_uri": "https://localhost:8080/"
        },
        "id": "1x62Ys0twcVG",
        "outputId": "409416eb-8e30-4e4e-83c3-ff191e6e7056"
      },
      "outputs": [
        {
          "name": "stderr",
          "output_type": "stream",
          "text": [
            "Some weights of the PyTorch model were not used when initializing the TF 2.0 model TFRobertaForSequenceClassification: ['roberta.embeddings.position_ids']\n",
            "- This IS expected if you are initializing TFRobertaForSequenceClassification from a PyTorch model trained on another task or with another architecture (e.g. initializing a TFBertForSequenceClassification model from a BertForPreTraining model).\n",
            "- This IS NOT expected if you are initializing TFRobertaForSequenceClassification from a PyTorch model that you expect to be exactly identical (e.g. initializing a TFBertForSequenceClassification model from a BertForSequenceClassification model).\n",
            "Some weights or buffers of the TF 2.0 model TFRobertaForSequenceClassification were not initialized from the PyTorch model and are newly initialized: ['classifier.dense.weight', 'classifier.dense.bias', 'classifier.out_proj.weight', 'classifier.out_proj.bias']\n",
            "You should probably TRAIN this model on a down-stream task to be able to use it for predictions and inference.\n"
          ]
        },
        {
          "name": "stdout",
          "output_type": "stream",
          "text": [
            "Epoch 1/4\n",
            "76/76 [==============================] - 98s 627ms/step - loss: 1.2750\n",
            "Epoch 2/4\n",
            "76/76 [==============================] - 45s 593ms/step - loss: 0.4855\n",
            "Epoch 3/4\n",
            "76/76 [==============================] - 45s 597ms/step - loss: 0.3276\n",
            "Epoch 4/4\n",
            "76/76 [==============================] - 45s 597ms/step - loss: 0.1917\n"
          ]
        },
        {
          "data": {
            "text/plain": [
              "<keras.callbacks.History at 0x7f6be0679b40>"
            ]
          },
          "execution_count": 19,
          "metadata": {},
          "output_type": "execute_result"
        }
      ],
      "source": [
        "#@title Train\n",
        "from transformers import TFAutoModelForSequenceClassification, set_seed\n",
        "from tensorflow.keras.optimizers import Adam\n",
        "import tensorflow as tf\n",
        "\n",
        "seed = 1234 #@param {\"type\":\"integer\"}\n",
        "epochs = 4 #@param {\"type\":\"integer\"}\n",
        "\n",
        "# Make training reproducible\n",
        "set_seed(seed)\n",
        "\n",
        "# Load and compile the base model\n",
        "model = TFAutoModelForSequenceClassification.from_pretrained(base_model, from_pt=True, num_labels=1)\n",
        "\n",
        "# resize model embedding to match new tokenizer\n",
        "model.resize_token_embeddings(len(tokenizer))\n",
        "\n",
        "# fix model padding token id if needed\n",
        "model.config.pad_token_id = model.config.eos_token_id if not model.config.pad_token_id else model.config.pad_token_id\n",
        "\n",
        "model.compile(optimizer=Adam(3e-5), loss=tf.keras.losses.MeanSquaredError())\n",
        "\n",
        "model.fit(tokenized_data, labels, epochs=epochs)"
      ]
    },
    {
      "cell_type": "code",
      "execution_count": 21,
      "metadata": {
        "cellView": "form",
        "colab": {
          "base_uri": "https://localhost:8080/"
        },
        "id": "oWfcBnSTwcVH",
        "outputId": "cd2e318d-fc20-4595-cbb3-eb2e24676735"
      },
      "outputs": [
        {
          "name": "stdout",
          "output_type": "stream",
          "text": [
            "RMSE: 0.7620399360144476\n"
          ]
        }
      ],
      "source": [
        "#@title Evaluate model\n",
        "import tensorflow as tf\n",
        "from sklearn.metrics import mean_squared_error\n",
        "\n",
        "# Tokenize tweets in dev_set\n",
        "tokenized_dev = tokenizer([tweet[\"tweet\"] for _, tweet in dev_set.iterrows()], return_tensors=\"np\", padding=True)\n",
        "tokenized_dev = dict(tokenized_dev)\n",
        "\n",
        "prediction = model(tokenized_dev)[0]\n",
        "original = [x[\"mean_prejudice\"] for _, x in dev_set.iterrows()]\n",
        "\n",
        "print(\"RMSE:\", mean_squared_error(prediction, original, squared=False))"
      ]
    }
  ],
  "metadata": {
    "accelerator": "GPU",
    "colab": {
      "gpuType": "T4",
      "provenance": []
    },
    "kernelspec": {
      "display_name": "Python 3",
      "name": "python3"
    },
    "language_info": {
      "name": "python"
    }
  },
  "nbformat": 4,
  "nbformat_minor": 0
}
