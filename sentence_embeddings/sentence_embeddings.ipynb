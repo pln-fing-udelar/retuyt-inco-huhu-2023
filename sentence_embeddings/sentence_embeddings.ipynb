{
  "nbformat": 4,
  "nbformat_minor": 0,
  "metadata": {
    "colab": {
      "provenance": [],
      "gpuType": "T4"
    },
    "kernelspec": {
      "name": "python3",
      "display_name": "Python 3"
    },
    "language_info": {
      "name": "python"
    },
    "accelerator": "GPU"
  },
  "cells": [
    {
      "cell_type": "markdown",
      "source": [
        "[![Open In Colab](https://colab.research.google.com/assets/colab-badge.svg)](https://colab.research.google.com/github/pln-fing-udelar/retuyt-inco-huhu-2023/blob/main/sentence_embeddings/sentence_embeddings.ipynb)"
      ],
      "metadata": {
        "id": "fUUfSum4rOnw"
      }
    },
    {
      "cell_type": "markdown",
      "metadata": {
        "id": "-yIgvCu4fOMf"
      },
      "source": [
        "# Using sentence embeddings for the HUHU Shared Task\n",
        "\n",
        "This notebook presents the sentence embeddings with k-Nearest Neighbors approach used for the HUHU Shared Task at IberLEF 2023. We explore several sentence embeddings models from the [SentenceTransformers](https://www.sbert.net/) package and we compare the results of k-NN with other machine learning techniques.\n",
        "\n",
        "For this notebook, it is **recommended** to use a runtime with GPU enabled.\n",
        "\n",
        "The Shared Task consisted of the following three subtasks (as explained in [the official website](https://sites.google.com/view/huhuatiberlef23/huhu)).\n",
        "\n",
        "### Subtask 1: HUrtful HUmour Detection\n",
        "\n",
        "The first subtask consists in determining whether a prejudicial tweet is intended to cause humour. Participants will have to distinguish between tweets that using humour express prejudice and tweets that express prejudice without using humour.\n",
        "\n",
        "### Subtask 2A: Prejudice Target Detection\n",
        "\n",
        "Taking into account the following minority groups: Women and feminists, LGBTIQ community and Immigrants, racially discriminated people, and overweight people, participants are asked to identify the targeted groups on each tweet as a multilabel classification task.\n",
        "\n",
        "### Subtask 2B: Degree of Prejudice Prediction\n",
        "\n",
        "The third subtask consists of predicting on a continuous scale from 1 to 5 to evaluate how prejudicial the message is on average among minority groups."
      ]
    },
    {
      "cell_type": "code",
      "execution_count": null,
      "metadata": {
        "cellView": "form",
        "id": "pAZaFeTISxFa"
      },
      "outputs": [],
      "source": [
        "#@title Install SentenceTransformers package\n",
        "\n",
        "!pip install sentence_transformers"
      ]
    },
    {
      "cell_type": "code",
      "execution_count": 2,
      "metadata": {
        "cellView": "form",
        "id": "Qa18tv9C4zse"
      },
      "outputs": [],
      "source": [
        "#@title Auxiliary functions\n",
        "import matplotlib.pyplot as plt\n",
        "from sklearn.metrics import confusion_matrix, ConfusionMatrixDisplay, f1_score\n",
        "\n",
        "def plotConfusionMatrix(labels, original, prediction):\n",
        "    cm = confusion_matrix(original, prediction, labels=labels)\n",
        "    disp = ConfusionMatrixDisplay(confusion_matrix=cm, display_labels=labels)\n",
        "    disp.plot()\n",
        "    plt.show()\n",
        "\n",
        "def getFScorePerClass(labels, original, prediction):\n",
        "\n",
        "    print(\"F-Score avg: \" + str(round(f1_score(original, prediction, average='macro'), 3)))\n",
        "\n",
        "    scores = f1_score(original, prediction, average=None, labels=labels)\n",
        "    for i in range(len(labels)):\n",
        "        print(f\"F-Score for the {labels[i]} class: \" + str(round(scores[i], 3)))"
      ]
    },
    {
      "cell_type": "markdown",
      "metadata": {
        "id": "jZZ7HoDKq-nu"
      },
      "source": [
        "To run the following code, it is necessary to have the following files in the root of your directory structure:\n",
        "\n",
        "\n",
        "*   huhu_split_train.csv\n",
        "*   huhu_split_dev.csv\n",
        "\n",
        "In our experiments, we decided to make our own internal 90%-10% split of the training set that was made available by the organizers. This training set can be downloaded from [zenodo](https://zenodo.org/record/7967255).\n"
      ]
    },
    {
      "cell_type": "code",
      "execution_count": 3,
      "metadata": {
        "cellView": "form",
        "id": "ypPJVWfEpoe7"
      },
      "outputs": [],
      "source": [
        "#@title Load train_set and dev_set\n",
        "import pandas as pd\n",
        "\n",
        "train_set = pd.read_csv('huhu_split_train.csv').sample(frac=1, random_state=1).reset_index()\n",
        "dev_set = pd.read_csv('huhu_split_dev.csv')"
      ]
    },
    {
      "cell_type": "code",
      "execution_count": null,
      "metadata": {
        "id": "4Fozn2H7vZsj",
        "cellView": "form"
      },
      "outputs": [],
      "source": [
        "#@title Encode train_set and dev_set tweets\n",
        "from sentence_transformers import SentenceTransformer\n",
        "\n",
        "train_tweets = train_set['tweet'].tolist()\n",
        "dev_tweets = dev_set['tweet'].tolist()\n",
        "\n",
        "model_name = \"cohere-io/gtr-t5-large-1-epoch\" #@param [\"sentence-transformers/sentence-t5-base\", \"Maite89/Roberta_finetuning_semantic_similarity_stsb_multi_mt\", \"symanto/sn-xlm-roberta-base-snli-mnli-anli-xnli\", \"hiiamsid/sentence_similarity_spanish_es\", \"sentence-transformers/all-MiniLM-L6-v2\", \"bigscience/sgpt-bloom-7b1-msmarco\", \"sentence-transformers/sentence-t5-large\", \"sentence-transformers/gtr-t5-large\", \"sentence-transformers/gtr-t5-xl\", \"cohere-io/gtr-t5-large-1-epoch\"] {allow-input: true}\n",
        "\n",
        "model = SentenceTransformer(model_name)\n",
        "\n",
        "embeddings_train = model.encode(train_tweets)\n",
        "embeddings_dev = model.encode(dev_tweets)"
      ]
    },
    {
      "cell_type": "markdown",
      "source": [
        "## Subtasks 1 and 2A"
      ],
      "metadata": {
        "id": "16euL8D-tLCU"
      }
    },
    {
      "cell_type": "code",
      "source": [
        "#@title Select category\n",
        "category = \"humor\" #@param [\"humor\", \"prejudice_woman\", \"prejudice_lgbtiq\", \"prejudice_inmigrant_race\", \"gordofobia\"]"
      ],
      "metadata": {
        "cellView": "form",
        "id": "Ovnqu4PRt66w"
      },
      "execution_count": 77,
      "outputs": []
    },
    {
      "cell_type": "code",
      "execution_count": 78,
      "metadata": {
        "cellView": "form",
        "colab": {
          "base_uri": "https://localhost:8080/",
          "height": 74
        },
        "id": "hvbL5iU_0PIB",
        "outputId": "ccf6f1db-7a20-4a7a-962e-6353b1331305"
      },
      "outputs": [
        {
          "output_type": "execute_result",
          "data": {
            "text/plain": [
              "KNeighborsClassifier(n_neighbors=14, weights='distance')"
            ],
            "text/html": [
              "<style>#sk-container-id-33 {color: black;background-color: white;}#sk-container-id-33 pre{padding: 0;}#sk-container-id-33 div.sk-toggleable {background-color: white;}#sk-container-id-33 label.sk-toggleable__label {cursor: pointer;display: block;width: 100%;margin-bottom: 0;padding: 0.3em;box-sizing: border-box;text-align: center;}#sk-container-id-33 label.sk-toggleable__label-arrow:before {content: \"▸\";float: left;margin-right: 0.25em;color: #696969;}#sk-container-id-33 label.sk-toggleable__label-arrow:hover:before {color: black;}#sk-container-id-33 div.sk-estimator:hover label.sk-toggleable__label-arrow:before {color: black;}#sk-container-id-33 div.sk-toggleable__content {max-height: 0;max-width: 0;overflow: hidden;text-align: left;background-color: #f0f8ff;}#sk-container-id-33 div.sk-toggleable__content pre {margin: 0.2em;color: black;border-radius: 0.25em;background-color: #f0f8ff;}#sk-container-id-33 input.sk-toggleable__control:checked~div.sk-toggleable__content {max-height: 200px;max-width: 100%;overflow: auto;}#sk-container-id-33 input.sk-toggleable__control:checked~label.sk-toggleable__label-arrow:before {content: \"▾\";}#sk-container-id-33 div.sk-estimator input.sk-toggleable__control:checked~label.sk-toggleable__label {background-color: #d4ebff;}#sk-container-id-33 div.sk-label input.sk-toggleable__control:checked~label.sk-toggleable__label {background-color: #d4ebff;}#sk-container-id-33 input.sk-hidden--visually {border: 0;clip: rect(1px 1px 1px 1px);clip: rect(1px, 1px, 1px, 1px);height: 1px;margin: -1px;overflow: hidden;padding: 0;position: absolute;width: 1px;}#sk-container-id-33 div.sk-estimator {font-family: monospace;background-color: #f0f8ff;border: 1px dotted black;border-radius: 0.25em;box-sizing: border-box;margin-bottom: 0.5em;}#sk-container-id-33 div.sk-estimator:hover {background-color: #d4ebff;}#sk-container-id-33 div.sk-parallel-item::after {content: \"\";width: 100%;border-bottom: 1px solid gray;flex-grow: 1;}#sk-container-id-33 div.sk-label:hover label.sk-toggleable__label {background-color: #d4ebff;}#sk-container-id-33 div.sk-serial::before {content: \"\";position: absolute;border-left: 1px solid gray;box-sizing: border-box;top: 0;bottom: 0;left: 50%;z-index: 0;}#sk-container-id-33 div.sk-serial {display: flex;flex-direction: column;align-items: center;background-color: white;padding-right: 0.2em;padding-left: 0.2em;position: relative;}#sk-container-id-33 div.sk-item {position: relative;z-index: 1;}#sk-container-id-33 div.sk-parallel {display: flex;align-items: stretch;justify-content: center;background-color: white;position: relative;}#sk-container-id-33 div.sk-item::before, #sk-container-id-33 div.sk-parallel-item::before {content: \"\";position: absolute;border-left: 1px solid gray;box-sizing: border-box;top: 0;bottom: 0;left: 50%;z-index: -1;}#sk-container-id-33 div.sk-parallel-item {display: flex;flex-direction: column;z-index: 1;position: relative;background-color: white;}#sk-container-id-33 div.sk-parallel-item:first-child::after {align-self: flex-end;width: 50%;}#sk-container-id-33 div.sk-parallel-item:last-child::after {align-self: flex-start;width: 50%;}#sk-container-id-33 div.sk-parallel-item:only-child::after {width: 0;}#sk-container-id-33 div.sk-dashed-wrapped {border: 1px dashed gray;margin: 0 0.4em 0.5em 0.4em;box-sizing: border-box;padding-bottom: 0.4em;background-color: white;}#sk-container-id-33 div.sk-label label {font-family: monospace;font-weight: bold;display: inline-block;line-height: 1.2em;}#sk-container-id-33 div.sk-label-container {text-align: center;}#sk-container-id-33 div.sk-container {/* jupyter's `normalize.less` sets `[hidden] { display: none; }` but bootstrap.min.css set `[hidden] { display: none !important; }` so we also need the `!important` here to be able to override the default hidden behavior on the sphinx rendered scikit-learn.org. See: https://github.com/scikit-learn/scikit-learn/issues/21755 */display: inline-block !important;position: relative;}#sk-container-id-33 div.sk-text-repr-fallback {display: none;}</style><div id=\"sk-container-id-33\" class=\"sk-top-container\"><div class=\"sk-text-repr-fallback\"><pre>KNeighborsClassifier(n_neighbors=14, weights=&#x27;distance&#x27;)</pre><b>In a Jupyter environment, please rerun this cell to show the HTML representation or trust the notebook. <br />On GitHub, the HTML representation is unable to render, please try loading this page with nbviewer.org.</b></div><div class=\"sk-container\" hidden><div class=\"sk-item\"><div class=\"sk-estimator sk-toggleable\"><input class=\"sk-toggleable__control sk-hidden--visually\" id=\"sk-estimator-id-33\" type=\"checkbox\" checked><label for=\"sk-estimator-id-33\" class=\"sk-toggleable__label sk-toggleable__label-arrow\">KNeighborsClassifier</label><div class=\"sk-toggleable__content\"><pre>KNeighborsClassifier(n_neighbors=14, weights=&#x27;distance&#x27;)</pre></div></div></div></div></div>"
            ]
          },
          "metadata": {},
          "execution_count": 78
        }
      ],
      "source": [
        "#@title K-NN classifier\n",
        "from sklearn.neighbors import KNeighborsClassifier\n",
        "\n",
        "k = 14 #@param {type: \"integer\"}\n",
        "weighted_distance = True #@param {type:\"boolean\"}\n",
        "\n",
        "model = KNeighborsClassifier(n_neighbors=k, weights='distance' if weighted_distance else 'uniform')\n",
        "model.fit(embeddings_train, train_set[category].tolist())"
      ]
    },
    {
      "cell_type": "code",
      "execution_count": 79,
      "metadata": {
        "cellView": "form",
        "colab": {
          "base_uri": "https://localhost:8080/",
          "height": 501
        },
        "id": "xPOe_pZn23Gf",
        "outputId": "33f41608-26be-49bd-af3e-640a7cca4be2"
      },
      "outputs": [
        {
          "output_type": "stream",
          "name": "stdout",
          "text": [
            "F-Score avg: 0.829\n",
            "F-Score for the negative class: 0.894\n",
            "F-Score for the positive class: 0.764\n"
          ]
        },
        {
          "output_type": "display_data",
          "data": {
            "text/plain": [
              "<Figure size 640x480 with 2 Axes>"
            ],
            "image/png": "[encoded data removed]"
          },
          "metadata": {}
        }
      ],
      "source": [
        "#@title Evaluate classifier\n",
        "prediction = model.predict(embeddings_dev)\n",
        "\n",
        "original = ['positive' if x[category] == 1 else 'negative' for _, x in dev_set.iterrows()]\n",
        "prediction = ['positive' if x == 1 else 'negative' for x in prediction]\n",
        "\n",
        "getFScorePerClass(['negative','positive'], original, prediction)\n",
        "plotConfusionMatrix(['negative','positive'], original, prediction)"
      ]
    },
    {
      "cell_type": "markdown",
      "metadata": {
        "id": "_soaG3RIMekx"
      },
      "source": [
        "The following table presents the best results obtained for several SentenceTransformers models, for the subtask 1.\n",
        "\n",
        "|model| k |weighted_dist|F1 Avg|F1 no_humor|F1 humor|\n",
        "|:----:|:-:|:-----------:|:----:|:---------:|:------:|\n",
        "|cohere-io/gtr-t5-xl-1-epoch|14|True|0.829|0.894|0.764|\n",
        "|sentence-transformers/gtr-t5-large|9|True|0.815|0.886|0.744|\n",
        "|sentence-transformers/gtr-t5-xl|12|True|0.801|0.879|0.724|\n",
        "|sentence-transformers/sentence-t5-large|5|False|0.781|0.860|0.702|\n",
        "|sentence-transformers/sentence-t5-base|12|True|0.761|0.859|0.662|\n",
        "|sentence-transformers/all-MiniLM-L6-v2|6|True|0.733|0.835|0.630|\n",
        "|symanto/sn-xlm-roberta-base-snli-mnli-anli-xnli|8|True|0.723|0.848|0.599|\n",
        "|hiiamsid/sentence_similarity_spanish_es|6|True|0.647|0.830|0.465|\n",
        "|Maite89/Roberta_finetuning_semantic_similarity_stsb_multi_mt|3|True|0.638|0.813|0.464|\n",
        "\n",
        "---\n",
        "\n",
        "These are the results obtained for the subtask 2A using the cohere-io/gtr-t5-large-1-epoch model, k = 3 and waighted_distance = True:\n",
        "\n",
        "|Clase|F1 Avg|F1 neg|F1 pos|\n",
        "|:---:|:----:|:----:|:----:|\n",
        "|prejudice_women|0.933|0.932|0.933|\n",
        "|prejudice_lgbtiq|0.934|0.971|0.897|\n",
        "|prejudice_inmigrant_race|0.995|0.998|0.992|\n",
        "|gordofobia|0.906|0.988|0.824|"
      ]
    },
    {
      "cell_type": "markdown",
      "metadata": {
        "id": "gWGCNeKEmSGd"
      },
      "source": [
        "### Trying other classifiers"
      ]
    },
    {
      "cell_type": "code",
      "execution_count": 89,
      "metadata": {
        "cellView": "form",
        "colab": {
          "base_uri": "https://localhost:8080/",
          "height": 74
        },
        "id": "KNaZEIEkmkbh",
        "outputId": "79c7e340-3b0d-453e-c5ba-a19b4e9a98ba"
      },
      "outputs": [
        {
          "output_type": "execute_result",
          "data": {
            "text/plain": [
              "SVC()"
            ],
            "text/html": [
              "<style>#sk-container-id-38 {color: black;background-color: white;}#sk-container-id-38 pre{padding: 0;}#sk-container-id-38 div.sk-toggleable {background-color: white;}#sk-container-id-38 label.sk-toggleable__label {cursor: pointer;display: block;width: 100%;margin-bottom: 0;padding: 0.3em;box-sizing: border-box;text-align: center;}#sk-container-id-38 label.sk-toggleable__label-arrow:before {content: \"▸\";float: left;margin-right: 0.25em;color: #696969;}#sk-container-id-38 label.sk-toggleable__label-arrow:hover:before {color: black;}#sk-container-id-38 div.sk-estimator:hover label.sk-toggleable__label-arrow:before {color: black;}#sk-container-id-38 div.sk-toggleable__content {max-height: 0;max-width: 0;overflow: hidden;text-align: left;background-color: #f0f8ff;}#sk-container-id-38 div.sk-toggleable__content pre {margin: 0.2em;color: black;border-radius: 0.25em;background-color: #f0f8ff;}#sk-container-id-38 input.sk-toggleable__control:checked~div.sk-toggleable__content {max-height: 200px;max-width: 100%;overflow: auto;}#sk-container-id-38 input.sk-toggleable__control:checked~label.sk-toggleable__label-arrow:before {content: \"▾\";}#sk-container-id-38 div.sk-estimator input.sk-toggleable__control:checked~label.sk-toggleable__label {background-color: #d4ebff;}#sk-container-id-38 div.sk-label input.sk-toggleable__control:checked~label.sk-toggleable__label {background-color: #d4ebff;}#sk-container-id-38 input.sk-hidden--visually {border: 0;clip: rect(1px 1px 1px 1px);clip: rect(1px, 1px, 1px, 1px);height: 1px;margin: -1px;overflow: hidden;padding: 0;position: absolute;width: 1px;}#sk-container-id-38 div.sk-estimator {font-family: monospace;background-color: #f0f8ff;border: 1px dotted black;border-radius: 0.25em;box-sizing: border-box;margin-bottom: 0.5em;}#sk-container-id-38 div.sk-estimator:hover {background-color: #d4ebff;}#sk-container-id-38 div.sk-parallel-item::after {content: \"\";width: 100%;border-bottom: 1px solid gray;flex-grow: 1;}#sk-container-id-38 div.sk-label:hover label.sk-toggleable__label {background-color: #d4ebff;}#sk-container-id-38 div.sk-serial::before {content: \"\";position: absolute;border-left: 1px solid gray;box-sizing: border-box;top: 0;bottom: 0;left: 50%;z-index: 0;}#sk-container-id-38 div.sk-serial {display: flex;flex-direction: column;align-items: center;background-color: white;padding-right: 0.2em;padding-left: 0.2em;position: relative;}#sk-container-id-38 div.sk-item {position: relative;z-index: 1;}#sk-container-id-38 div.sk-parallel {display: flex;align-items: stretch;justify-content: center;background-color: white;position: relative;}#sk-container-id-38 div.sk-item::before, #sk-container-id-38 div.sk-parallel-item::before {content: \"\";position: absolute;border-left: 1px solid gray;box-sizing: border-box;top: 0;bottom: 0;left: 50%;z-index: -1;}#sk-container-id-38 div.sk-parallel-item {display: flex;flex-direction: column;z-index: 1;position: relative;background-color: white;}#sk-container-id-38 div.sk-parallel-item:first-child::after {align-self: flex-end;width: 50%;}#sk-container-id-38 div.sk-parallel-item:last-child::after {align-self: flex-start;width: 50%;}#sk-container-id-38 div.sk-parallel-item:only-child::after {width: 0;}#sk-container-id-38 div.sk-dashed-wrapped {border: 1px dashed gray;margin: 0 0.4em 0.5em 0.4em;box-sizing: border-box;padding-bottom: 0.4em;background-color: white;}#sk-container-id-38 div.sk-label label {font-family: monospace;font-weight: bold;display: inline-block;line-height: 1.2em;}#sk-container-id-38 div.sk-label-container {text-align: center;}#sk-container-id-38 div.sk-container {/* jupyter's `normalize.less` sets `[hidden] { display: none; }` but bootstrap.min.css set `[hidden] { display: none !important; }` so we also need the `!important` here to be able to override the default hidden behavior on the sphinx rendered scikit-learn.org. See: https://github.com/scikit-learn/scikit-learn/issues/21755 */display: inline-block !important;position: relative;}#sk-container-id-38 div.sk-text-repr-fallback {display: none;}</style><div id=\"sk-container-id-38\" class=\"sk-top-container\"><div class=\"sk-text-repr-fallback\"><pre>SVC()</pre><b>In a Jupyter environment, please rerun this cell to show the HTML representation or trust the notebook. <br />On GitHub, the HTML representation is unable to render, please try loading this page with nbviewer.org.</b></div><div class=\"sk-container\" hidden><div class=\"sk-item\"><div class=\"sk-estimator sk-toggleable\"><input class=\"sk-toggleable__control sk-hidden--visually\" id=\"sk-estimator-id-38\" type=\"checkbox\" checked><label for=\"sk-estimator-id-38\" class=\"sk-toggleable__label sk-toggleable__label-arrow\">SVC</label><div class=\"sk-toggleable__content\"><pre>SVC()</pre></div></div></div></div></div>"
            ]
          },
          "metadata": {},
          "execution_count": 89
        }
      ],
      "source": [
        "#@title Train classifier\n",
        "from sklearn import linear_model, tree, naive_bayes, svm, neural_network, preprocessing\n",
        "import numpy as np\n",
        "\n",
        "classifier = \"SVM\" #@param [\"SVM\", \"Decision tree\", \"Logistic regression\", \"MLP neural net\"]\n",
        "if classifier == \"SVM\":\n",
        "  model = svm.SVC()\n",
        "elif classifier == \"Decision tree\":\n",
        "  model = tree.DecisionTreeClassifier()\n",
        "elif classifier == \"Logistic regression\":\n",
        "  model = linear_model.LogisticRegression()\n",
        "else:\n",
        "  model = neural_network.MLPClassifier(hidden_layer_sizes=(50,15,5), random_state=1234, max_iter=1000)\n",
        "\n",
        "model.fit(embeddings_train, train_set[category].tolist())"
      ]
    },
    {
      "cell_type": "code",
      "execution_count": 90,
      "metadata": {
        "cellView": "form",
        "colab": {
          "base_uri": "https://localhost:8080/",
          "height": 502
        },
        "id": "Met9bgwboDqN",
        "outputId": "86c15bd5-9add-4785-e4c9-2d0fd776c905"
      },
      "outputs": [
        {
          "output_type": "stream",
          "name": "stdout",
          "text": [
            "F-Score avg: 0.792\n",
            "F-Score for the negative class: 0.873\n",
            "F-Score for the positive class: 0.712\n"
          ]
        },
        {
          "output_type": "display_data",
          "data": {
            "text/plain": [
              "<Figure size 640x480 with 2 Axes>"
            ],
            "image/png": "[encoded data removed]"
          },
          "metadata": {}
        }
      ],
      "source": [
        "#@title Evaluate classifier\n",
        "prediction = model.predict(embeddings_dev)\n",
        "\n",
        "original = ['positive' if x[category] == 1 else 'negative' for _, x in dev_set.iterrows()]\n",
        "prediction = ['positive' if x == 1 else 'negative' for x in prediction]\n",
        "\n",
        "getFScorePerClass(['negative','positive'], original, prediction)\n",
        "plotConfusionMatrix(['negative','positive'], original, prediction)"
      ]
    },
    {
      "cell_type": "markdown",
      "metadata": {
        "id": "XT_vmXrfpji7"
      },
      "source": [
        "### Class centroids"
      ]
    },
    {
      "cell_type": "code",
      "execution_count": 82,
      "metadata": {
        "cellView": "form",
        "id": "h-nAgDpYppwR"
      },
      "outputs": [],
      "source": [
        "#@title Create centroids\n",
        "import numpy as np\n",
        "\n",
        "cls = train_set[category].tolist()\n",
        "pairs = [(embeddings_train[i], cls[i]) for i in range(len(embeddings_train))]\n",
        "pos = [p[0] for p in pairs if p[1] == 1]\n",
        "neg = [p[0] for p in pairs if p[1] == 0]\n",
        "\n",
        "centroid_pos = np.mean(pos, axis=0)\n",
        "centroid_neg = np.mean(neg, axis=0)"
      ]
    },
    {
      "cell_type": "code",
      "execution_count": 83,
      "metadata": {
        "cellView": "form",
        "colab": {
          "base_uri": "https://localhost:8080/",
          "height": 501
        },
        "id": "bO3iAkhStqFw",
        "outputId": "398aacac-ff2d-4309-87f8-65d54c81fd52"
      },
      "outputs": [
        {
          "output_type": "stream",
          "name": "stdout",
          "text": [
            "F-Score avg: 0.8\n",
            "F-Score for the negative class: 0.85\n",
            "F-Score for the positive class: 0.75\n"
          ]
        },
        {
          "output_type": "display_data",
          "data": {
            "text/plain": [
              "<Figure size 640x480 with 2 Axes>"
            ],
            "image/png": "[encoded data removed]"
          },
          "metadata": {}
        }
      ],
      "source": [
        "#@title Evaluate classifier\n",
        "from sklearn import metrics\n",
        "\n",
        "def compare(v1, v2):\n",
        "  return metrics.pairwise.cosine_similarity(v1.reshape(1, -1), v2.reshape(1, -1))\n",
        "\n",
        "prediction = ['positive' if compare(v, centroid_pos) > compare(v, centroid_neg) else 'negative' for v in embeddings_dev]\n",
        "original = ['positive' if x[category] == 1 else 'negative' for _, x in dev_set.iterrows()]\n",
        "\n",
        "getFScorePerClass(['negative','positive'], original, prediction)\n",
        "plotConfusionMatrix(['negative','positive'], original, prediction)"
      ]
    },
    {
      "cell_type": "markdown",
      "metadata": {
        "id": "zhjX-sa3sANO"
      },
      "source": [
        "### Results\n",
        "\n",
        "The following table shows the F1 score for subtask 1 obtained for each classifier, using sentence-transformers/gtr-t5-large as the model for generating the sentence embeddings.\n",
        "\n",
        "|Classifier|F1 Avg|no_humor F1|humor F1|\n",
        "|:----------:|:----:|:---------:|:------:|\n",
        "|k-NN|0.829|0.894|0.764|\n",
        "|Neural network|0.813|0.872|0.754|\n",
        "|Logistic Regression|0.807|0.885|0.730|\n",
        "|Class centroids|0.800|0.850|0.750|\n",
        "|SVM|0.792|0.873|0.712|\n",
        "|Decision Tree|0.636|0.742|0.529|\n",
        "\n",
        "---\n",
        "\n",
        "The following table presents the results obtained for subtask 2A.\n",
        "\n",
        "|Class|Classifier|F1 Avg|F1 neg|F1 pos|\n",
        "|:---:|:----------:|:----:|:----:|:----:|\n",
        "|prejudice_women|k-NN|0.933|0.932|0.933|\n",
        "|prejudice_women|Logistic Regression|0.903|0.905|0.900|\n",
        "|prejudice_women|SVM|0.891|0.895|0.888|\n",
        "|prejudice_women|Neural Network|0.891|0.891|0.892|\n",
        "|prejudice_women|Class centroids|0.869|0.875|0.863|\n",
        "||\n",
        "|prejudice_lgbtiq|k-NN|0.934|0.971|0.897|\n",
        "|prejudice_lgbtiq|SVM|0.914|0.965|0.862|\n",
        "|prejudice_lgbtiq|Neural Network|0.891|0.952|0.831|\n",
        "|prejudice_lgbtiq|Logistic Regression|0.886|0.956|0.816|\n",
        "|prejudice_lgbtiq|Class centroids|0.882|0.950|0.814|\n",
        "||\n",
        "|prejudice_inmigrant_race|k-NN|0.995|0.998|0.992|\n",
        "|prejudice_inmigrant_race|SVM|0.990|0.995|0.984|\n",
        "|prejudice_inmigrant_race|Logistic Regression|0.979|0.990|0.968|\n",
        "|prejudice_inmigrant_race|Neural Network|0.974|0.988|0.961|\n",
        "|prejudice_inmigrant_race|Class centroids|0.937|0.967|0.906|\n",
        "||\n",
        "|gordofobia|SVM|0.919|0.990|0.849|\n",
        "|gordofobia|k-NN|0.906|0.988|0.824|\n",
        "|gordofobia|Neural Network|0.887|0.984|0.790|\n",
        "|gordofobia|Logistic Regression|0.782|0.980|0.583|\n",
        "|gordofobia|Class centroids|0.759|0.952|0.566|"
      ]
    },
    {
      "cell_type": "markdown",
      "source": [
        "## Subtask 2B\n",
        "\n",
        "Given the regression nature of this task, we used the regression versions of each machine learning technique."
      ],
      "metadata": {
        "id": "sy3BhM25xbtH"
      }
    },
    {
      "cell_type": "code",
      "execution_count": 91,
      "metadata": {
        "cellView": "form",
        "colab": {
          "base_uri": "https://localhost:8080/",
          "height": 74
        },
        "outputId": "d568d67e-640d-49b6-9094-d3e5812e20cc",
        "id": "5u0ClAlxxbtI"
      },
      "outputs": [
        {
          "output_type": "execute_result",
          "data": {
            "text/plain": [
              "KNeighborsRegressor(n_neighbors=11, weights='distance')"
            ],
            "text/html": [
              "<style>#sk-container-id-39 {color: black;background-color: white;}#sk-container-id-39 pre{padding: 0;}#sk-container-id-39 div.sk-toggleable {background-color: white;}#sk-container-id-39 label.sk-toggleable__label {cursor: pointer;display: block;width: 100%;margin-bottom: 0;padding: 0.3em;box-sizing: border-box;text-align: center;}#sk-container-id-39 label.sk-toggleable__label-arrow:before {content: \"▸\";float: left;margin-right: 0.25em;color: #696969;}#sk-container-id-39 label.sk-toggleable__label-arrow:hover:before {color: black;}#sk-container-id-39 div.sk-estimator:hover label.sk-toggleable__label-arrow:before {color: black;}#sk-container-id-39 div.sk-toggleable__content {max-height: 0;max-width: 0;overflow: hidden;text-align: left;background-color: #f0f8ff;}#sk-container-id-39 div.sk-toggleable__content pre {margin: 0.2em;color: black;border-radius: 0.25em;background-color: #f0f8ff;}#sk-container-id-39 input.sk-toggleable__control:checked~div.sk-toggleable__content {max-height: 200px;max-width: 100%;overflow: auto;}#sk-container-id-39 input.sk-toggleable__control:checked~label.sk-toggleable__label-arrow:before {content: \"▾\";}#sk-container-id-39 div.sk-estimator input.sk-toggleable__control:checked~label.sk-toggleable__label {background-color: #d4ebff;}#sk-container-id-39 div.sk-label input.sk-toggleable__control:checked~label.sk-toggleable__label {background-color: #d4ebff;}#sk-container-id-39 input.sk-hidden--visually {border: 0;clip: rect(1px 1px 1px 1px);clip: rect(1px, 1px, 1px, 1px);height: 1px;margin: -1px;overflow: hidden;padding: 0;position: absolute;width: 1px;}#sk-container-id-39 div.sk-estimator {font-family: monospace;background-color: #f0f8ff;border: 1px dotted black;border-radius: 0.25em;box-sizing: border-box;margin-bottom: 0.5em;}#sk-container-id-39 div.sk-estimator:hover {background-color: #d4ebff;}#sk-container-id-39 div.sk-parallel-item::after {content: \"\";width: 100%;border-bottom: 1px solid gray;flex-grow: 1;}#sk-container-id-39 div.sk-label:hover label.sk-toggleable__label {background-color: #d4ebff;}#sk-container-id-39 div.sk-serial::before {content: \"\";position: absolute;border-left: 1px solid gray;box-sizing: border-box;top: 0;bottom: 0;left: 50%;z-index: 0;}#sk-container-id-39 div.sk-serial {display: flex;flex-direction: column;align-items: center;background-color: white;padding-right: 0.2em;padding-left: 0.2em;position: relative;}#sk-container-id-39 div.sk-item {position: relative;z-index: 1;}#sk-container-id-39 div.sk-parallel {display: flex;align-items: stretch;justify-content: center;background-color: white;position: relative;}#sk-container-id-39 div.sk-item::before, #sk-container-id-39 div.sk-parallel-item::before {content: \"\";position: absolute;border-left: 1px solid gray;box-sizing: border-box;top: 0;bottom: 0;left: 50%;z-index: -1;}#sk-container-id-39 div.sk-parallel-item {display: flex;flex-direction: column;z-index: 1;position: relative;background-color: white;}#sk-container-id-39 div.sk-parallel-item:first-child::after {align-self: flex-end;width: 50%;}#sk-container-id-39 div.sk-parallel-item:last-child::after {align-self: flex-start;width: 50%;}#sk-container-id-39 div.sk-parallel-item:only-child::after {width: 0;}#sk-container-id-39 div.sk-dashed-wrapped {border: 1px dashed gray;margin: 0 0.4em 0.5em 0.4em;box-sizing: border-box;padding-bottom: 0.4em;background-color: white;}#sk-container-id-39 div.sk-label label {font-family: monospace;font-weight: bold;display: inline-block;line-height: 1.2em;}#sk-container-id-39 div.sk-label-container {text-align: center;}#sk-container-id-39 div.sk-container {/* jupyter's `normalize.less` sets `[hidden] { display: none; }` but bootstrap.min.css set `[hidden] { display: none !important; }` so we also need the `!important` here to be able to override the default hidden behavior on the sphinx rendered scikit-learn.org. See: https://github.com/scikit-learn/scikit-learn/issues/21755 */display: inline-block !important;position: relative;}#sk-container-id-39 div.sk-text-repr-fallback {display: none;}</style><div id=\"sk-container-id-39\" class=\"sk-top-container\"><div class=\"sk-text-repr-fallback\"><pre>KNeighborsRegressor(n_neighbors=11, weights=&#x27;distance&#x27;)</pre><b>In a Jupyter environment, please rerun this cell to show the HTML representation or trust the notebook. <br />On GitHub, the HTML representation is unable to render, please try loading this page with nbviewer.org.</b></div><div class=\"sk-container\" hidden><div class=\"sk-item\"><div class=\"sk-estimator sk-toggleable\"><input class=\"sk-toggleable__control sk-hidden--visually\" id=\"sk-estimator-id-39\" type=\"checkbox\" checked><label for=\"sk-estimator-id-39\" class=\"sk-toggleable__label sk-toggleable__label-arrow\">KNeighborsRegressor</label><div class=\"sk-toggleable__content\"><pre>KNeighborsRegressor(n_neighbors=11, weights=&#x27;distance&#x27;)</pre></div></div></div></div></div>"
            ]
          },
          "metadata": {},
          "execution_count": 91
        }
      ],
      "source": [
        "#@title Train model\n",
        "from sklearn import linear_model, neural_network, svm, neighbors\n",
        "\n",
        "model = \"K-NN regressor\" #@param [\"K-NN regressor\", \"Linear regression\", \"MLP neural net\", \"SVR\"]\n",
        "\n",
        "if model == \"K-NN regressor\":\n",
        "  model = neighbors.KNeighborsRegressor(n_neighbors=11, weights='distance')\n",
        "elif model == \"Linear regression\":\n",
        "  model = linear_model.LinearRegression()\n",
        "elif model == \"MLP neural net\":\n",
        "  model = neural_network.MLPRegressor(hidden_layer_sizes=(10,2,), random_state=1234, max_iter=1000)\n",
        "else:\n",
        "  model = svm.SVR()\n",
        "\n",
        "model.fit(embeddings_train, train_set[\"mean_prejudice\"].tolist())"
      ]
    },
    {
      "cell_type": "code",
      "execution_count": 92,
      "metadata": {
        "cellView": "form",
        "colab": {
          "base_uri": "https://localhost:8080/"
        },
        "outputId": "00aa0177-44ee-460a-bf71-9ab345464784",
        "id": "UY2NaKqFxbtI"
      },
      "outputs": [
        {
          "output_type": "stream",
          "name": "stdout",
          "text": [
            "RMSE: 0.6642409442452981\n"
          ]
        }
      ],
      "source": [
        "#@title Evaluate model\n",
        "from sklearn.metrics import mean_squared_error\n",
        "\n",
        "prediction = model.predict(embeddings_dev)\n",
        "\n",
        "original = [x[\"mean_prejudice\"] for _, x in dev_set.iterrows()]\n",
        "\n",
        "print(\"RMSE:\", mean_squared_error(original, prediction, squared=False))"
      ]
    },
    {
      "cell_type": "markdown",
      "metadata": {
        "id": "nT2Gv71hxbtJ"
      },
      "source": [
        "### Results\n",
        "\n",
        "The following table shows the RMSE obtained with each technique, using sentence-transformers/gtr-t5-large as the model for generating the sentence embeddings.\n",
        "\n",
        "|Technique|RMSE|\n",
        "|:-----:|:--:|\n",
        "|K-NN Regressor|0.664|\n",
        "|SVR|0.698|\n",
        "|MLP Neural Network|0.729|\n",
        "|Linear Regression|0.779|"
      ]
    }
  ]
}